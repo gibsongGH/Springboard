{
 "cells": [
  {
   "cell_type": "code",
   "execution_count": 1,
   "metadata": {},
   "outputs": [],
   "source": [
    "import numpy as np\n",
    "import pandas as pd\n",
    "import datetime as dt"
   ]
  },
  {
   "cell_type": "code",
   "execution_count": null,
   "metadata": {},
   "outputs": [],
   "source": [
    "# This dataset was found at https://osu.app.box.com/v/us-accidents-dec19 and unzipped with 7-Zip"
   ]
  },
  {
   "cell_type": "code",
   "execution_count": 2,
   "metadata": {},
   "outputs": [],
   "source": [
    "df = pd.read_csv('C:/Users/ggibs/data/US_Accidents_Dec19.csv', parse_dates = ['Start_Time', 'End_Time'])  "
   ]
  },
  {
   "cell_type": "code",
   "execution_count": 3,
   "metadata": {},
   "outputs": [],
   "source": [
    "df['Month'] = df['Start_Time'].dt.month"
   ]
  },
  {
   "cell_type": "code",
   "execution_count": 4,
   "metadata": {},
   "outputs": [],
   "source": [
    "# Zipcode is null in only 0.03% of records, remove null zipcode rows\n",
    "df = df[df['Zipcode'].notna()]"
   ]
  },
  {
   "cell_type": "code",
   "execution_count": 5,
   "metadata": {},
   "outputs": [],
   "source": [
    "# Shorten zipcode for larger areas\n",
    "df['Zip2'] = df['Zipcode'].str[:2]"
   ]
  },
  {
   "cell_type": "code",
   "execution_count": 6,
   "metadata": {},
   "outputs": [],
   "source": [
    "# Group data by Zipcode2 and Month for regional weather similarities\n",
    "df_group = df.groupby(['Zip2', 'Month'], as_index = False)"
   ]
  },
  {
   "cell_type": "code",
   "execution_count": 7,
   "metadata": {},
   "outputs": [],
   "source": [
    "# Calculate mean and std deviation of weather measurements by zip-month grouping\n",
    "monthly_precip = df_group['Precipitation(in)'].agg(['mean', 'std']).reset_index()\n",
    "monthly_chill = df_group['Wind_Chill(F)'].agg(['mean', 'std']).reset_index()\n",
    "monthly_speed = df_group['Wind_Speed(mph)'].agg(['mean', 'std']).reset_index()"
   ]
  },
  {
   "cell_type": "code",
   "execution_count": 8,
   "metadata": {},
   "outputs": [],
   "source": [
    "# Create an index by zip-month combo\n",
    "monthly_precip['Zip2Month'] = monthly_precip['Zip2'] + monthly_precip['Month'].astype(str)\n",
    "mp = monthly_precip[['Zip2Month', 'mean', 'std']].set_index('Zip2Month')\n",
    "\n",
    "monthly_chill['Zip2Month'] = monthly_chill['Zip2'] + monthly_chill['Month'].astype(str)\n",
    "mc = monthly_chill[['Zip2Month', 'mean', 'std']].set_index('Zip2Month')\n",
    "\n",
    "monthly_speed['Zip2Month'] = monthly_speed['Zip2'] + monthly_speed['Month'].astype(str)\n",
    "ms = monthly_speed[['Zip2Month', 'mean', 'std']].set_index('Zip2Month')"
   ]
  },
  {
   "cell_type": "code",
   "execution_count": 12,
   "metadata": {},
   "outputs": [],
   "source": [
    "# Fill weather NaNs with above means and standard deviations\n",
    "#for i in df.index:\n",
    "for i in range(1000):\n",
    "    row = df.loc[i,'Zip2'] + df.loc[i,'Month'].astype(str)\n",
    "    try:\n",
    "        if pd.isnull(df.loc[i, 'Precipitation(in)']):\n",
    "            df.loc[i, 'Precipitation(in)'] = np.random.normal(mp.loc[row, 'mean'], mp.loc[row, 'std'], 1)\n",
    "    except:\n",
    "        continue\n",
    "    try:\n",
    "        if pd.isnull(df.loc[i, 'Wind_Chill(F)']):\n",
    "            df.loc[i, 'Wind_Chill(F)'] = np.random.normal(mc.loc[row, 'mean'], mc.loc[row, 'std'], 1)\n",
    "    except:\n",
    "        continue\n",
    "    try:\n",
    "        if pd.isnull(df.loc[i, 'Wind_Speed(mph)']):\n",
    "            df.loc[i, 'Wind_Speed(mph)'] = np.random.normal(ms.loc[row, 'mean'], ms.loc[row, 'std'], 1)\n",
    "    except:\n",
    "        continue\n",
    "    else:\n",
    "        continue"
   ]
  }
 ],
 "metadata": {
  "kernelspec": {
   "display_name": "Python 3",
   "language": "python",
   "name": "python3"
  },
  "language_info": {
   "codemirror_mode": {
    "name": "ipython",
    "version": 3
   },
   "file_extension": ".py",
   "mimetype": "text/x-python",
   "name": "python",
   "nbconvert_exporter": "python",
   "pygments_lexer": "ipython3",
   "version": "3.7.6"
  }
 },
 "nbformat": 4,
 "nbformat_minor": 4
}
