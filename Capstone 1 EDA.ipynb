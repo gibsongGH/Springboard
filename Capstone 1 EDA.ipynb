{
 "cells": [
  {
   "cell_type": "code",
   "execution_count": 1,
   "metadata": {},
   "outputs": [],
   "source": [
    "import numpy as np\n",
    "import pandas as pd\n",
    "import datetime as dt\n",
    "import matplotlib.pyplot as plt"
   ]
  },
  {
   "cell_type": "code",
   "execution_count": null,
   "metadata": {},
   "outputs": [],
   "source": [
    "# This dataset was found at https://osu.app.box.com/v/us-accidents-dec19 and unzipped with 7-Zip"
   ]
  },
  {
   "cell_type": "code",
   "execution_count": 2,
   "metadata": {},
   "outputs": [],
   "source": [
    "df = pd.read_csv('C:/Users/ggibs/data/US_Accidents_Dec19.csv', parse_dates = ['Start_Time', 'End_Time'])  "
   ]
  },
  {
   "cell_type": "code",
   "execution_count": 42,
   "metadata": {},
   "outputs": [
    {
     "name": "stdout",
     "output_type": "stream",
     "text": [
      "<class 'pandas.core.frame.DataFrame'>\n",
      "RangeIndex: 2974335 entries, 0 to 2974334\n",
      "Data columns (total 49 columns):\n",
      " #   Column                 Dtype         \n",
      "---  ------                 -----         \n",
      " 0   ID                     object        \n",
      " 1   Source                 object        \n",
      " 2   TMC                    float64       \n",
      " 3   Severity               int64         \n",
      " 4   Start_Time             datetime64[ns]\n",
      " 5   End_Time               datetime64[ns]\n",
      " 6   Start_Lat              float64       \n",
      " 7   Start_Lng              float64       \n",
      " 8   End_Lat                float64       \n",
      " 9   End_Lng                float64       \n",
      " 10  Distance(mi)           float64       \n",
      " 11  Description            object        \n",
      " 12  Number                 float64       \n",
      " 13  Street                 object        \n",
      " 14  Side                   object        \n",
      " 15  City                   object        \n",
      " 16  County                 object        \n",
      " 17  State                  object        \n",
      " 18  Zipcode                object        \n",
      " 19  Country                object        \n",
      " 20  Timezone               object        \n",
      " 21  Airport_Code           object        \n",
      " 22  Weather_Timestamp      object        \n",
      " 23  Temperature(F)         float64       \n",
      " 24  Wind_Chill(F)          float64       \n",
      " 25  Humidity(%)            float64       \n",
      " 26  Pressure(in)           float64       \n",
      " 27  Visibility(mi)         float64       \n",
      " 28  Wind_Direction         object        \n",
      " 29  Wind_Speed(mph)        float64       \n",
      " 30  Precipitation(in)      float64       \n",
      " 31  Weather_Condition      object        \n",
      " 32  Amenity                bool          \n",
      " 33  Bump                   bool          \n",
      " 34  Crossing               bool          \n",
      " 35  Give_Way               bool          \n",
      " 36  Junction               bool          \n",
      " 37  No_Exit                bool          \n",
      " 38  Railway                bool          \n",
      " 39  Roundabout             bool          \n",
      " 40  Station                bool          \n",
      " 41  Stop                   bool          \n",
      " 42  Traffic_Calming        bool          \n",
      " 43  Traffic_Signal         bool          \n",
      " 44  Turning_Loop           bool          \n",
      " 45  Sunrise_Sunset         object        \n",
      " 46  Civil_Twilight         object        \n",
      " 47  Nautical_Twilight      object        \n",
      " 48  Astronomical_Twilight  object        \n",
      "dtypes: bool(13), datetime64[ns](2), float64(14), int64(1), object(19)\n",
      "memory usage: 853.8+ MB\n"
     ]
    }
   ],
   "source": [
    "df.info()"
   ]
  },
  {
   "cell_type": "code",
   "execution_count": 5,
   "metadata": {},
   "outputs": [
    {
     "data": {
      "text/plain": [
       "ID                        0.000000\n",
       "Source                    0.000000\n",
       "TMC                      24.478446\n",
       "Severity                  0.000000\n",
       "Start_Time                0.000000\n",
       "End_Time                  0.000000\n",
       "Start_Lat                 0.000000\n",
       "Start_Lng                 0.000000\n",
       "End_Lat                  75.521554\n",
       "End_Lng                  75.521554\n",
       "Distance(mi)              0.000000\n",
       "Description               0.000034\n",
       "Number                   64.471722\n",
       "Street                    0.000000\n",
       "Side                      0.000000\n",
       "City                      0.002791\n",
       "County                    0.000000\n",
       "State                     0.000000\n",
       "Zipcode                   0.029586\n",
       "Country                   0.000000\n",
       "Timezone                  0.106343\n",
       "Airport_Code              0.191337\n",
       "Weather_Timestamp         1.234057\n",
       "Temperature(F)            1.884892\n",
       "Wind_Chill(F)            62.286965\n",
       "Humidity(%)               1.989453\n",
       "Pressure(in)              1.618580\n",
       "Visibility(mi)            2.208595\n",
       "Wind_Direction            1.516339\n",
       "Wind_Speed(mph)          14.821464\n",
       "Precipitation(in)        67.186716\n",
       "Weather_Condition         2.216697\n",
       "Amenity                   0.000000\n",
       "Bump                      0.000000\n",
       "Crossing                  0.000000\n",
       "Give_Way                  0.000000\n",
       "Junction                  0.000000\n",
       "No_Exit                   0.000000\n",
       "Railway                   0.000000\n",
       "Roundabout                0.000000\n",
       "Station                   0.000000\n",
       "Stop                      0.000000\n",
       "Traffic_Calming           0.000000\n",
       "Traffic_Signal            0.000000\n",
       "Turning_Loop              0.000000\n",
       "Sunrise_Sunset            0.003127\n",
       "Civil_Twilight            0.003127\n",
       "Nautical_Twilight         0.003127\n",
       "Astronomical_Twilight     0.003127\n",
       "dtype: float64"
      ]
     },
     "execution_count": 5,
     "metadata": {},
     "output_type": "execute_result"
    }
   ],
   "source": [
    "# % null\n",
    "df.isna().sum()/2974335*100"
   ]
  },
  {
   "cell_type": "code",
   "execution_count": 3,
   "metadata": {},
   "outputs": [],
   "source": [
    "# Create a time of traffic duration\n",
    "df['Duration'] = df.apply(lambda x: x['End_Time'] - x['Start_Time'], axis = 1)\n",
    "# Convert to minutes\n",
    "df['Duration'] = df['Duration']/np.timedelta64(1,'m')"
   ]
  },
  {
   "cell_type": "code",
   "execution_count": 5,
   "metadata": {},
   "outputs": [
    {
     "data": {
      "text/plain": [
       "73849"
      ]
     },
     "execution_count": 5,
     "metadata": {},
     "output_type": "execute_result"
    }
   ],
   "source": [
    "# Some records are exactly 30 min to the second and could be placeholders\n",
    "df['Duration'][df['Duration'] == 30.0000].count()"
   ]
  },
  {
   "cell_type": "code",
   "execution_count": 6,
   "metadata": {},
   "outputs": [
    {
     "data": {
      "text/plain": [
       "0.018434961609356315"
      ]
     },
     "execution_count": 6,
     "metadata": {},
     "output_type": "execute_result"
    }
   ],
   "source": [
    "# Does it correlate to Severity?  No\n",
    "df['Duration'].corr(df['Severity'])"
   ]
  },
  {
   "cell_type": "code",
   "execution_count": 7,
   "metadata": {},
   "outputs": [
    {
     "data": {
      "text/plain": [
       "0.14639349572676352"
      ]
     },
     "execution_count": 7,
     "metadata": {},
     "output_type": "execute_result"
    }
   ],
   "source": [
    "# Does Distance correlate to Severity?  No\n",
    "df['Distance(mi)'].corr(df['Severity'])"
   ]
  },
  {
   "cell_type": "code",
   "execution_count": 4,
   "metadata": {},
   "outputs": [],
   "source": [
    "# Add day of week column\n",
    "df['weekday'] = df['Start_Time'].apply(lambda x: dt.datetime.strftime(x, '%a'))"
   ]
  },
  {
   "cell_type": "code",
   "execution_count": 9,
   "metadata": {},
   "outputs": [
    {
     "name": "stdout",
     "output_type": "stream",
     "text": [
      "         weekday\n",
      "weekday         \n",
      "Tue      543,725\n",
      "Fri      537,749\n",
      "Wed      537,474\n",
      "Thu      526,138\n",
      "Mon      507,255\n",
      "Sat      170,349\n",
      "Sun      151,645\n"
     ]
    },
    {
     "data": {
      "image/png": "[encoded data removed]",
      "text/plain": [
       "<Figure size 432x288 with 1 Axes>"
      ]
     },
     "metadata": {
      "needs_background": "light"
     },
     "output_type": "display_data"
    }
   ],
   "source": [
    "# Distribution of accidents Day of Week\n",
    "# Fairly even distribution on the five weekdays, each over 500,000 accidents, with Monday 93% of Tuesday's high.\n",
    "weekday_count = pd.DataFrame(df.groupby('weekday').weekday.count().sort_values(ascending = False))\n",
    "weekday_count.plot(kind='bar', legend=None, title = 'US Accidents Mar 2015 thru 2019')\n",
    "plt.show\n",
    "weekday_count['weekday'] = weekday_count['weekday'].astype(int).apply(lambda x: \"{:,}\".format(x)) \n",
    "print(weekday_count)"
   ]
  },
  {
   "cell_type": "code",
   "execution_count": 5,
   "metadata": {},
   "outputs": [],
   "source": [
    "# Add hour column\n",
    "df['hour'] = df['Start_Time'].apply(lambda x: dt.datetime.strftime(x, '%H'))"
   ]
  },
  {
   "cell_type": "code",
   "execution_count": 11,
   "metadata": {},
   "outputs": [
    {
     "name": "stdout",
     "output_type": "stream",
     "text": [
      "         hour\n",
      "hour         \n",
      "08    284,274\n",
      "07    273,506\n",
      "17    221,641\n",
      "16    212,576\n",
      "15    177,655\n",
      "09    177,468\n",
      "06    169,079\n",
      "18    167,411\n",
      "10    157,867\n",
      "11    155,330\n",
      "14    150,242\n",
      "13    142,027\n",
      "12    139,166\n",
      "19    115,413\n",
      "05     83,866\n",
      "20     81,733\n",
      "21     57,739\n",
      "04     53,594\n",
      "22     48,299\n",
      "23     26,716\n",
      "00     23,189\n",
      "02     18,944\n",
      "03     18,600\n",
      "01     18,000\n"
     ]
    },
    {
     "data": {
      "image/png": "[encoded data removed]",
      "text/plain": [
       "<Figure size 432x288 with 1 Axes>"
      ]
     },
     "metadata": {
      "needs_background": "light"
     },
     "output_type": "display_data"
    }
   ],
   "source": [
    "# Distribution of accidents by hour of day\n",
    "# Commuting time ranks highest, 8AM & 7AM, followed by 5PM & 4PM\n",
    "hour_count = pd.DataFrame(df.groupby('hour').hour.count().sort_values(ascending = False))\n",
    "hour_count.plot(kind='bar', legend=None, title = 'US Accidents Mar 2015 thru 2019')\n",
    "plt.show\n",
    "hour_count['hour'] = hour_count['hour'].astype(int).apply(lambda x: \"{:,}\".format(x)) \n",
    "print(hour_count)"
   ]
  },
  {
   "cell_type": "code",
   "execution_count": 12,
   "metadata": {},
   "outputs": [
    {
     "name": "stdout",
     "output_type": "stream",
     "text": [
      "       Weather_Condition  Precipitation(in)\n",
      "141205             Clear               0.15\n",
      "141626             Clear               0.12\n",
      "141635             Clear               0.12\n",
      "143251             Clear               0.12\n",
      "143252             Clear               0.12\n",
      "143260             Clear               0.12\n",
      "145692              Fair               0.12\n",
      "153781             Clear               0.14\n",
      "159337             Clear               0.14\n",
      "193080             Clear               0.14\n"
     ]
    }
   ],
   "source": [
    "# It can rain during good weather indicator\n",
    "subset = (df['Weather_Condition'].isin(['Fair', 'Clear'])) & (df['Precipitation(in)']>0.1) \n",
    "WCFair = df[['Weather_Condition', 'Precipitation(in)']][subset]\n",
    "print(WCFair.head(10))"
   ]
  },
  {
   "cell_type": "code",
   "execution_count": 13,
   "metadata": {},
   "outputs": [
    {
     "data": {
      "text/plain": [
       "(132433, 52)"
      ]
     },
     "execution_count": 13,
     "metadata": {},
     "output_type": "execute_result"
    }
   ],
   "source": [
    "# End_Lat & _Lng are 75.5% null\n",
    "# Can records have Distance without End coordinates?  Yes\n",
    "df[(df['End_Lat'].isnull() == True) & (df['Distance(mi)'] > 0.1)].shape"
   ]
  },
  {
   "cell_type": "code",
   "execution_count": 14,
   "metadata": {},
   "outputs": [
    {
     "data": {
      "text/plain": [
       "(152280, 52)"
      ]
     },
     "execution_count": 14,
     "metadata": {},
     "output_type": "execute_result"
    }
   ],
   "source": [
    "# Can Distance be zero and End_Lat not null?  Yes\n",
    "df[(df['End_Lat'].notnull() == True) & (df['Distance(mi)'] == 0)].shape\n",
    "# End_Lat and End_Lng are not required."
   ]
  },
  {
   "cell_type": "code",
   "execution_count": null,
   "metadata": {},
   "outputs": [],
   "source": [
    "# Street Number is 64.5% null and not required, considering highways and ramps, etc., do not have a street address."
   ]
  },
  {
   "cell_type": "code",
   "execution_count": 15,
   "metadata": {},
   "outputs": [
    {
     "data": {
      "text/plain": [
       "201.0    63.544860\n",
       "241.0     7.365377\n",
       "245.0     1.207631\n",
       "229.0     0.761616\n",
       "203.0     0.564563\n",
       "222.0     0.422010\n",
       "244.0     0.375311\n",
       "406.0     0.318290\n",
       "246.0     0.213493\n",
       "202.0     0.203306\n",
       "343.0     0.195909\n",
       "247.0     0.155194\n",
       "236.0     0.071142\n",
       "206.0     0.038899\n",
       "248.0     0.034024\n",
       "339.0     0.026023\n",
       "341.0     0.016945\n",
       "336.0     0.002723\n",
       "200.0     0.002219\n",
       "239.0     0.001816\n",
       "351.0     0.000202\n",
       "Name: TMC, dtype: float64"
      ]
     },
     "execution_count": 15,
     "metadata": {},
     "output_type": "execute_result"
    }
   ],
   "source": [
    "# TMC is 24.5% null, while 63.5% of available points are in one category, and likely not beneficial.\n",
    "# % in TMC categories\n",
    "df.TMC.value_counts()/2974335*100"
   ]
  },
  {
   "cell_type": "code",
   "execution_count": 53,
   "metadata": {},
   "outputs": [
    {
     "data": {
      "text/plain": [
       "(2974335, 48)"
      ]
     },
     "execution_count": 53,
     "metadata": {},
     "output_type": "execute_result"
    }
   ],
   "source": [
    "# Exclude End_Lat, End_Lng, Number (street), and TMC columns\n",
    "df2 = df.drop(['End_Lat', 'End_Lng', 'Number', 'TMC'], axis = 1)\n",
    "df2.shape"
   ]
  },
  {
   "cell_type": "code",
   "execution_count": 17,
   "metadata": {},
   "outputs": [
    {
     "data": {
      "text/plain": [
       "(779721, 48)"
      ]
     },
     "execution_count": 17,
     "metadata": {},
     "output_type": "execute_result"
    }
   ],
   "source": [
    "# Drop NaN records\n",
    "df_nonan = df2.dropna()\n",
    "df_nonan.shape"
   ]
  },
  {
   "cell_type": "code",
   "execution_count": 18,
   "metadata": {},
   "outputs": [
    {
     "data": {
      "text/plain": [
       "26.2"
      ]
     },
     "execution_count": 18,
     "metadata": {},
     "output_type": "execute_result"
    }
   ],
   "source": [
    "# Current subset with no NaN is 26% of original file\n",
    "round(779721 / 2974335 *100,1)"
   ]
  },
  {
   "cell_type": "code",
   "execution_count": null,
   "metadata": {},
   "outputs": [],
   "source": [
    "# Original file was over 60% null in Precipitation(in) and Wind_Chill(F)\n",
    "# Here is an alternative effort to salvage a greater proportion of records:\n",
    "# Sort on month and zipcode to group similar weather together and replace NaNs with interpolate."
   ]
  },
  {
   "cell_type": "code",
   "execution_count": 54,
   "metadata": {},
   "outputs": [],
   "source": [
    "# Zipcode is null in only 0.03% of records, remove null zipcode rows\n",
    "df2 = df2[df2['Zipcode'].notna()]"
   ]
  },
  {
   "cell_type": "code",
   "execution_count": 55,
   "metadata": {},
   "outputs": [],
   "source": [
    "# Shorten zipcode for larger areas\n",
    "df2['Zip2'] = df2['Zipcode'].str[:2]"
   ]
  },
  {
   "cell_type": "code",
   "execution_count": 56,
   "metadata": {},
   "outputs": [],
   "source": [
    "# Extract month\n",
    "df2['Month'] = df2['Start_Time'].dt.month"
   ]
  },
  {
   "cell_type": "code",
   "execution_count": 57,
   "metadata": {},
   "outputs": [],
   "source": [
    "# Sort by Month and Zip code to group similar weather\n",
    "df2.sort_values(by = ['Month', 'Zip2'], inplace = True)"
   ]
  },
  {
   "cell_type": "code",
   "execution_count": 58,
   "metadata": {},
   "outputs": [],
   "source": [
    "# Interpolate to fill missing records in Precipitation, Wind_Chill and Wind_Speed\n",
    "cols = ['Precipitation(in)', 'Wind_Chill(F)', 'Wind_Speed(mph)']\n",
    "df2[cols] = df2[cols].interpolate(method ='linear', axis = 0, limit_direction = 'both') "
   ]
  },
  {
   "cell_type": "code",
   "execution_count": 59,
   "metadata": {},
   "outputs": [
    {
     "data": {
      "text/plain": [
       "0"
      ]
     },
     "execution_count": 59,
     "metadata": {},
     "output_type": "execute_result"
    }
   ],
   "source": [
    "df2['Precipitation(in)'].isna().sum()"
   ]
  },
  {
   "cell_type": "code",
   "execution_count": 68,
   "metadata": {},
   "outputs": [],
   "source": [
    "df2 = df2.dropna()"
   ]
  },
  {
   "cell_type": "code",
   "execution_count": 70,
   "metadata": {},
   "outputs": [
    {
     "data": {
      "text/plain": [
       "(2881492, 50)"
      ]
     },
     "execution_count": 70,
     "metadata": {},
     "output_type": "execute_result"
    }
   ],
   "source": [
    "# Retained 97% of records\n",
    "df2.shape"
   ]
  },
  {
   "cell_type": "code",
   "execution_count": 72,
   "metadata": {},
   "outputs": [],
   "source": [
    "df2_copy = df2.copy()"
   ]
  },
  {
   "cell_type": "code",
   "execution_count": 73,
   "metadata": {},
   "outputs": [],
   "source": [
    "# remove outliers\n",
    "from scipy import stats\n",
    "\n",
    "def drop_numerical_outliers(df, z_thresh=3):\n",
    "    # Constrains will contain `True` or `False` depending on if it is a value below the threshold.\n",
    "    constrains = df.select_dtypes(include='float64') \\\n",
    "        .apply(lambda x: np.abs(stats.zscore(x)) < z_thresh, result_type='reduce') \\\n",
    "        .all(axis=1)\n",
    "    # Drop (inplace) values set to be rejected\n",
    "    df.drop(df.index[~constrains], inplace=True)"
   ]
  },
  {
   "cell_type": "code",
   "execution_count": 74,
   "metadata": {},
   "outputs": [],
   "source": [
    "drop_numerical_outliers(df2_copy)"
   ]
  },
  {
   "cell_type": "code",
   "execution_count": 75,
   "metadata": {},
   "outputs": [
    {
     "data": {
      "text/plain": [
       "(2717404, 50)"
      ]
     },
     "execution_count": 75,
     "metadata": {},
     "output_type": "execute_result"
    }
   ],
   "source": [
    "# Removing outliers leaves 91.4% of original record count\n",
    "df2_copy.shape"
   ]
  },
  {
   "cell_type": "code",
   "execution_count": null,
   "metadata": {},
   "outputs": [],
   "source": []
  }
 ],
 "metadata": {
  "kernelspec": {
   "display_name": "Python 3",
   "language": "python",
   "name": "python3"
  },
  "language_info": {
   "codemirror_mode": {
    "name": "ipython",
    "version": 3
   },
   "file_extension": ".py",
   "mimetype": "text/x-python",
   "name": "python",
   "nbconvert_exporter": "python",
   "pygments_lexer": "ipython3",
   "version": "3.7.6"
  }
 },
 "nbformat": 4,
 "nbformat_minor": 4
}
