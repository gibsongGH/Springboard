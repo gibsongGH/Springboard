{
 "cells": [
  {
   "cell_type": "code",
   "execution_count": 1,
   "metadata": {},
   "outputs": [],
   "source": [
    "import numpy as np\n",
    "import pandas as pd\n",
    "import datetime as dt"
   ]
  },
  {
   "cell_type": "code",
   "execution_count": 2,
   "metadata": {},
   "outputs": [],
   "source": [
    "df = pd.read_csv('C:/Users/ggibs/data/US_Accidents_Dec19.csv', parse_dates = ['Start_Time', 'End_Time'])  "
   ]
  },
  {
   "cell_type": "code",
   "execution_count": 42,
   "metadata": {},
   "outputs": [
    {
     "name": "stdout",
     "output_type": "stream",
     "text": [
      "<class 'pandas.core.frame.DataFrame'>\n",
      "RangeIndex: 2974335 entries, 0 to 2974334\n",
      "Data columns (total 49 columns):\n",
      " #   Column                 Dtype         \n",
      "---  ------                 -----         \n",
      " 0   ID                     object        \n",
      " 1   Source                 object        \n",
      " 2   TMC                    float64       \n",
      " 3   Severity               int64         \n",
      " 4   Start_Time             datetime64[ns]\n",
      " 5   End_Time               datetime64[ns]\n",
      " 6   Start_Lat              float64       \n",
      " 7   Start_Lng              float64       \n",
      " 8   End_Lat                float64       \n",
      " 9   End_Lng                float64       \n",
      " 10  Distance(mi)           float64       \n",
      " 11  Description            object        \n",
      " 12  Number                 float64       \n",
      " 13  Street                 object        \n",
      " 14  Side                   object        \n",
      " 15  City                   object        \n",
      " 16  County                 object        \n",
      " 17  State                  object        \n",
      " 18  Zipcode                object        \n",
      " 19  Country                object        \n",
      " 20  Timezone               object        \n",
      " 21  Airport_Code           object        \n",
      " 22  Weather_Timestamp      object        \n",
      " 23  Temperature(F)         float64       \n",
      " 24  Wind_Chill(F)          float64       \n",
      " 25  Humidity(%)            float64       \n",
      " 26  Pressure(in)           float64       \n",
      " 27  Visibility(mi)         float64       \n",
      " 28  Wind_Direction         object        \n",
      " 29  Wind_Speed(mph)        float64       \n",
      " 30  Precipitation(in)      float64       \n",
      " 31  Weather_Condition      object        \n",
      " 32  Amenity                bool          \n",
      " 33  Bump                   bool          \n",
      " 34  Crossing               bool          \n",
      " 35  Give_Way               bool          \n",
      " 36  Junction               bool          \n",
      " 37  No_Exit                bool          \n",
      " 38  Railway                bool          \n",
      " 39  Roundabout             bool          \n",
      " 40  Station                bool          \n",
      " 41  Stop                   bool          \n",
      " 42  Traffic_Calming        bool          \n",
      " 43  Traffic_Signal         bool          \n",
      " 44  Turning_Loop           bool          \n",
      " 45  Sunrise_Sunset         object        \n",
      " 46  Civil_Twilight         object        \n",
      " 47  Nautical_Twilight      object        \n",
      " 48  Astronomical_Twilight  object        \n",
      "dtypes: bool(13), datetime64[ns](2), float64(14), int64(1), object(19)\n",
      "memory usage: 853.8+ MB\n"
     ]
    }
   ],
   "source": [
    "df.info()"
   ]
  },
  {
   "cell_type": "code",
   "execution_count": 5,
   "metadata": {},
   "outputs": [
    {
     "data": {
      "text/plain": [
       "ID                        0.000000\n",
       "Source                    0.000000\n",
       "TMC                      24.478446\n",
       "Severity                  0.000000\n",
       "Start_Time                0.000000\n",
       "End_Time                  0.000000\n",
       "Start_Lat                 0.000000\n",
       "Start_Lng                 0.000000\n",
       "End_Lat                  75.521554\n",
       "End_Lng                  75.521554\n",
       "Distance(mi)              0.000000\n",
       "Description               0.000034\n",
       "Number                   64.471722\n",
       "Street                    0.000000\n",
       "Side                      0.000000\n",
       "City                      0.002791\n",
       "County                    0.000000\n",
       "State                     0.000000\n",
       "Zipcode                   0.029586\n",
       "Country                   0.000000\n",
       "Timezone                  0.106343\n",
       "Airport_Code              0.191337\n",
       "Weather_Timestamp         1.234057\n",
       "Temperature(F)            1.884892\n",
       "Wind_Chill(F)            62.286965\n",
       "Humidity(%)               1.989453\n",
       "Pressure(in)              1.618580\n",
       "Visibility(mi)            2.208595\n",
       "Wind_Direction            1.516339\n",
       "Wind_Speed(mph)          14.821464\n",
       "Precipitation(in)        67.186716\n",
       "Weather_Condition         2.216697\n",
       "Amenity                   0.000000\n",
       "Bump                      0.000000\n",
       "Crossing                  0.000000\n",
       "Give_Way                  0.000000\n",
       "Junction                  0.000000\n",
       "No_Exit                   0.000000\n",
       "Railway                   0.000000\n",
       "Roundabout                0.000000\n",
       "Station                   0.000000\n",
       "Stop                      0.000000\n",
       "Traffic_Calming           0.000000\n",
       "Traffic_Signal            0.000000\n",
       "Turning_Loop              0.000000\n",
       "Sunrise_Sunset            0.003127\n",
       "Civil_Twilight            0.003127\n",
       "Nautical_Twilight         0.003127\n",
       "Astronomical_Twilight     0.003127\n",
       "dtype: float64"
      ]
     },
     "execution_count": 5,
     "metadata": {},
     "output_type": "execute_result"
    }
   ],
   "source": [
    "# % null\n",
    "df.isna().sum()/2974335*100"
   ]
  },
  {
   "cell_type": "code",
   "execution_count": 72,
   "metadata": {},
   "outputs": [
    {
     "data": {
      "text/plain": [
       "(132433, 49)"
      ]
     },
     "execution_count": 72,
     "metadata": {},
     "output_type": "execute_result"
    }
   ],
   "source": [
    "# End_Lat & _Lng are 75.5% null\n",
    "# Can records have Distance without End coordinates?  Yes\n",
    "df[(df['End_Lat'].isnull() == True) & (df['Distance(mi)'] > 0.1)].shape"
   ]
  },
  {
   "cell_type": "code",
   "execution_count": 75,
   "metadata": {},
   "outputs": [
    {
     "data": {
      "text/plain": [
       "(152280, 49)"
      ]
     },
     "execution_count": 75,
     "metadata": {},
     "output_type": "execute_result"
    }
   ],
   "source": [
    "# Can Distance be zero and End_Lat not null?  Yes\n",
    "df[(df['End_Lat'].notnull() == True) & (df['Distance(mi)'] == 0)].shape\n",
    "# End_Lat and End_Lng are not required."
   ]
  },
  {
   "cell_type": "code",
   "execution_count": null,
   "metadata": {},
   "outputs": [],
   "source": [
    "# Street Number is 64.5% null and not required, considering highways and ramps, etc., do not have a street address."
   ]
  },
  {
   "cell_type": "code",
   "execution_count": 77,
   "metadata": {},
   "outputs": [
    {
     "data": {
      "text/plain": [
       "201.0    63.544860\n",
       "241.0     7.365377\n",
       "245.0     1.207631\n",
       "229.0     0.761616\n",
       "203.0     0.564563\n",
       "222.0     0.422010\n",
       "244.0     0.375311\n",
       "406.0     0.318290\n",
       "246.0     0.213493\n",
       "202.0     0.203306\n",
       "343.0     0.195909\n",
       "247.0     0.155194\n",
       "236.0     0.071142\n",
       "206.0     0.038899\n",
       "248.0     0.034024\n",
       "339.0     0.026023\n",
       "341.0     0.016945\n",
       "336.0     0.002723\n",
       "200.0     0.002219\n",
       "239.0     0.001816\n",
       "351.0     0.000202\n",
       "Name: TMC, dtype: float64"
      ]
     },
     "execution_count": 77,
     "metadata": {},
     "output_type": "execute_result"
    }
   ],
   "source": [
    "# TMC is 24.5% null, while 63.5% of available points are in one category, and likely not beneficial.\n",
    "# % in TMC categories\n",
    "df.TMC.value_counts()/2974335*100"
   ]
  },
  {
   "cell_type": "code",
   "execution_count": 84,
   "metadata": {},
   "outputs": [
    {
     "data": {
      "text/plain": [
       "(2974335, 45)"
      ]
     },
     "execution_count": 84,
     "metadata": {},
     "output_type": "execute_result"
    }
   ],
   "source": [
    "# Exclude End_Lat, End_Lng, Number (street), and TMC columns\n",
    "df2 = df.drop(['End_Lat', 'End_Lng', 'Number', 'TMC'], axis = 1)\n",
    "df2.shape"
   ]
  },
  {
   "cell_type": "code",
   "execution_count": 85,
   "metadata": {},
   "outputs": [
    {
     "data": {
      "text/plain": [
       "(779721, 45)"
      ]
     },
     "execution_count": 85,
     "metadata": {},
     "output_type": "execute_result"
    }
   ],
   "source": [
    "# Drop remaining NaN records\n",
    "df_nonan = df2.dropna()\n",
    "df_nonan.shape"
   ]
  },
  {
   "cell_type": "code",
   "execution_count": 115,
   "metadata": {},
   "outputs": [
    {
     "data": {
      "text/plain": [
       "26.2"
      ]
     },
     "execution_count": 115,
     "metadata": {},
     "output_type": "execute_result"
    }
   ],
   "source": [
    "# Current subset is 26% of original file\n",
    "round(779721 / 2974335 *100,1)"
   ]
  },
  {
   "cell_type": "code",
   "execution_count": 92,
   "metadata": {},
   "outputs": [
    {
     "name": "stderr",
     "output_type": "stream",
     "text": [
      "C:\\Users\\ggibs\\Anaconda3\\lib\\site-packages\\ipykernel_launcher.py:3: SettingWithCopyWarning: \n",
      "A value is trying to be set on a copy of a slice from a DataFrame.\n",
      "Try using .loc[row_indexer,col_indexer] = value instead\n",
      "\n",
      "See the caveats in the documentation: https://pandas.pydata.org/pandas-docs/stable/user_guide/indexing.html#returning-a-view-versus-a-copy\n",
      "  This is separate from the ipykernel package so we can avoid doing imports until\n",
      "C:\\Users\\ggibs\\Anaconda3\\lib\\site-packages\\ipykernel_launcher.py:5: SettingWithCopyWarning: \n",
      "A value is trying to be set on a copy of a slice from a DataFrame.\n",
      "Try using .loc[row_indexer,col_indexer] = value instead\n",
      "\n",
      "See the caveats in the documentation: https://pandas.pydata.org/pandas-docs/stable/user_guide/indexing.html#returning-a-view-versus-a-copy\n",
      "  \"\"\"\n"
     ]
    }
   ],
   "source": [
    "# Create a traffic duration of minutes\n",
    "#df_nonan['Duration'] = df_nonan['End_Time'] - df_nonan['Start_Time']\n",
    "df_nonan['Duration'] = df_nonan.apply(lambda x: x['End_Time'] - x['Start_Time'], axis = 1)\n",
    "# Convert to minutes\n",
    "df_nonan['Duration'] = df_nonan['Duration']/np.timedelta64(1,'m')"
   ]
  },
  {
   "cell_type": "code",
   "execution_count": 100,
   "metadata": {},
   "outputs": [
    {
     "data": {
      "text/plain": [
       "2122"
      ]
     },
     "execution_count": 100,
     "metadata": {},
     "output_type": "execute_result"
    }
   ],
   "source": [
    "# A few records are exactly 30 min to the second\n",
    "df_nonan['Duration'][df_nonan['Duration'] == 30.0000].count()"
   ]
  },
  {
   "cell_type": "code",
   "execution_count": 106,
   "metadata": {},
   "outputs": [
    {
     "data": {
      "text/plain": [
       "0.010502699827644403"
      ]
     },
     "execution_count": 106,
     "metadata": {},
     "output_type": "execute_result"
    }
   ],
   "source": [
    "# Does it correlate to Severity?  No\n",
    "df_nonan['Duration'].corr(df_nonan['Severity'])"
   ]
  },
  {
   "cell_type": "code",
   "execution_count": 105,
   "metadata": {},
   "outputs": [
    {
     "data": {
      "text/plain": [
       "0.1777027071605262"
      ]
     },
     "execution_count": 105,
     "metadata": {},
     "output_type": "execute_result"
    }
   ],
   "source": [
    "# Does Distance correlate to Severity?  No\n",
    "df_nonan['Distance(mi)'].corr(df_nonan['Severity'])"
   ]
  },
  {
   "cell_type": "code",
   "execution_count": 111,
   "metadata": {},
   "outputs": [
    {
     "name": "stdout",
     "output_type": "stream",
     "text": [
      "       Weather_Condition  Precipitation(in)\n",
      "145692              Fair               0.12\n",
      "204631             Clear               0.17\n",
      "204657             Clear               9.85\n",
      "231212             Clear               0.20\n",
      "243012             Clear               0.93\n",
      "243016             Clear               0.93\n",
      "302453              Fair               0.39\n",
      "327351             Clear               9.95\n",
      "370781             Clear               9.99\n",
      "373982             Clear               9.97\n"
     ]
    }
   ],
   "source": [
    "# Can rain during good weather indicator\n",
    "subset = (df_nonan['Weather_Condition'].isin(['Fair', 'Clear'])) & (df_nonan['Precipitation(in)']>0.1) \n",
    "WCFair = df_nonan[['Weather_Condition', 'Precipitation(in)']][subset]\n",
    "print(WCFair.head(10))"
   ]
  },
  {
   "cell_type": "code",
   "execution_count": null,
   "metadata": {},
   "outputs": [],
   "source": [
    "# Original file was over 60% null in Precipitation(in) and Wind_Chill(F)\n",
    "# Here is an alternative effort to salvage a greater proportion of records\n",
    "# Plan B:  Calculate mean and standard deviation of weather categories during that month and zipcode and replace NaNs"
   ]
  },
  {
   "cell_type": "code",
   "execution_count": 3,
   "metadata": {},
   "outputs": [],
   "source": [
    "df['Month'] = df['Start_Time'].dt.month\n",
    "# df['Day'] = df['Start_Time'].dt.day\n",
    "# df['Hour'] = df['Start_Time'].dt.hour"
   ]
  },
  {
   "cell_type": "code",
   "execution_count": 4,
   "metadata": {},
   "outputs": [],
   "source": [
    "# Zipcode is null in only 0.03% of records, remove null zipcode rows\n",
    "df = df[df['Zipcode'].notna()]"
   ]
  },
  {
   "cell_type": "code",
   "execution_count": 5,
   "metadata": {},
   "outputs": [],
   "source": [
    "# Shorten zipcode for larger areas\n",
    "df['Zip2'] = df['Zipcode'].str[:2]"
   ]
  },
  {
   "cell_type": "code",
   "execution_count": 6,
   "metadata": {},
   "outputs": [],
   "source": [
    "# Group data by Zipcode2 and Month for regional weather similarities\n",
    "df_group = df.groupby(['Zip2', 'Month'], as_index = False)"
   ]
  },
  {
   "cell_type": "code",
   "execution_count": 7,
   "metadata": {},
   "outputs": [],
   "source": [
    "# Calculate mean and std deviation of weather measurements by zip-month grouping\n",
    "monthly_precip = df_group['Precipitation(in)'].agg(['mean', 'std']).reset_index()\n",
    "monthly_chill = df_group['Wind_Chill(F)'].agg(['mean', 'std']).reset_index()\n",
    "monthly_speed = df_group['Wind_Speed(mph)'].agg(['mean', 'std']).reset_index()"
   ]
  },
  {
   "cell_type": "code",
   "execution_count": 8,
   "metadata": {},
   "outputs": [],
   "source": [
    "# Create an index by zip-month combo\n",
    "monthly_precip['Zip2Month'] = monthly_precip['Zip2'] + monthly_precip['Month'].astype(str)\n",
    "mp = monthly_precip[['Zip2Month', 'mean', 'std']].set_index('Zip2Month')\n",
    "\n",
    "monthly_chill['Zip2Month'] = monthly_chill['Zip2'] + monthly_chill['Month'].astype(str)\n",
    "mc = monthly_chill[['Zip2Month', 'mean', 'std']].set_index('Zip2Month')\n",
    "\n",
    "monthly_speed['Zip2Month'] = monthly_speed['Zip2'] + monthly_speed['Month'].astype(str)\n",
    "ms = monthly_speed[['Zip2Month', 'mean', 'std']].set_index('Zip2Month')"
   ]
  },
  {
   "cell_type": "code",
   "execution_count": null,
   "metadata": {},
   "outputs": [],
   "source": [
    "# Fill weather NaNs with above means and standard deviations\n",
    "for i in df.index:\n",
    "    row = df.loc[i,'Zip2'] + df.loc[i,'Month'].astype(str)\n",
    "    try:\n",
    "        if pd.isnull(df.loc[i, 'Precipitation(in)']):\n",
    "            df.loc[i, 'Precipitation(in)'] = np.random.normal(mp.loc[row, 'mean'], mp.loc[row, 'std'], 1)\n",
    "    except:\n",
    "        continue\n",
    "    try:\n",
    "        if pd.isnull(df.loc[i, 'Wind_Chill(F)']):\n",
    "            df.loc[i, 'Wind_Chill(F)'] = np.random.normal(mc.loc[row, 'mean'], mc.loc[row, 'std'], 1)\n",
    "    except:\n",
    "        continue\n",
    "    try:\n",
    "        if pd.isnull(df.loc[i, 'Wind_Speed(mph)']):\n",
    "            df.loc[i, 'Wind_Speed(mph)'] = np.random.normal(ms.loc[row, 'mean'], ms.loc[row, 'std'], 1)\n",
    "    except:\n",
    "        continue\n",
    "    else:\n",
    "        continue"
   ]
  },
  {
   "cell_type": "code",
   "execution_count": null,
   "metadata": {},
   "outputs": [],
   "source": [
    "print(df[['Precipitation(in)', 'Wind_Chill(F)', 'Wind_Speed(mph)']].head(50))"
   ]
  },
  {
   "cell_type": "code",
   "execution_count": 138,
   "metadata": {},
   "outputs": [],
   "source": [
    "# remove outliers\n",
    "from scipy import stats"
   ]
  },
  {
   "cell_type": "code",
   "execution_count": 179,
   "metadata": {},
   "outputs": [],
   "source": [
    "z_scores = stats.zscore(df2)\n",
    "abs_z_scores = np.abs(z_scores)\n",
    "filtered_entries = (abs_z_scores < 3).all(axis=1)\n",
    "new_df = df2[filtered_entries]"
   ]
  },
  {
   "cell_type": "code",
   "execution_count": 180,
   "metadata": {},
   "outputs": [
    {
     "data": {
      "text/plain": [
       "(2663278, 10)"
      ]
     },
     "execution_count": 180,
     "metadata": {},
     "output_type": "execute_result"
    }
   ],
   "source": [
    "new_df.shape"
   ]
  },
  {
   "cell_type": "code",
   "execution_count": 9,
   "metadata": {},
   "outputs": [
    {
     "data": {
      "text/plain": [
       "750000.0"
      ]
     },
     "execution_count": 9,
     "metadata": {},
     "output_type": "execute_result"
    }
   ],
   "source": [
    "3000000*.25"
   ]
  },
  {
   "cell_type": "code",
   "execution_count": null,
   "metadata": {},
   "outputs": [],
   "source": []
  },
  {
   "cell_type": "code",
   "execution_count": null,
   "metadata": {},
   "outputs": [],
   "source": [
    "'''\n",
    "API alternative - This errors out due to too many record requests\n",
    "RapidAPI for Dark Sky would allow unlimited records for $0.001.  67% of 3M records is 2M records and would cost $2K\n",
    "\n",
    "import requests\n",
    "\n",
    "url = 'http://api.worldweatheronline.com/premium/v1/past-weather.ashx'\n",
    "API_KEY = '*****'\n",
    "loc = str(df['Start_Lat'][0]) + ', ' + str(df['Start_Lng'][0])\n",
    "d = str(df.Start_Time[0].date())\n",
    "params = dict(key = API_KEY, q = loc, format = 'json', date = d, includelocation = 'yes', tp=1 )\n",
    "\n",
    "res = requests.get(url, params)\n",
    "\n",
    "json = res.json()\n",
    "\n",
    "for i in df:\n",
    "    if str(df.loc[i, 'Wind_Chill(F)']) == 'nan' or str(df.loc[i, 'Wind_Speed(mph)']) == 'nan' or str(df.loc[i, 'Precipitation(in)']) == 'nan':\n",
    "            loc = str(df['Start_Lat'][i]) + ', ' + str(df['Start_Lng'][i])\n",
    "            d = str(df.Start_Time[i].date())\n",
    "            params = dict(key = API_KEY, q = loc, format = 'json', date = d, includelocation = 'yes', tp=1 )\n",
    "            res = requests.get(url, params)\n",
    "            json = res.json()\n",
    "            if df.Start_Time[i].time().hour == 23:\n",
    "                h = 23\n",
    "            elif df.Start_Time[i].time().minute > 30:\n",
    "                h = df.Start_Time[i].time().hour + 1\n",
    "            else:\n",
    "                h = df.Start_Time[i].time().hour\n",
    "\n",
    "            if str(df.loc[i, 'Wind_Chill(F)']) == 'nan':\n",
    "                df.loc[i,'Wind_Chill(F)'] = int(json['data']['weather'][0]['hourly'][h]['WindChillF'])\n",
    "            if str(df.loc[i, 'Wind_Speed(mph)']) == 'nan':\n",
    "                df.loc[i,'Wind_Speed(mph)'] = int(json['data']['weather'][0]['hourly'][h]['windspeedMiles'])\n",
    "            if str(df.loc[i, 'Precipitation(in)']) == 'nan':\n",
    "                df.loc[i,'Precipitation(in)'] = float(json['data']['weather'][0]['hourly'][h]['precipInches'])\n",
    "    else:\n",
    "        continue\n",
    "'''"
   ]
  }
 ],
 "metadata": {
  "kernelspec": {
   "display_name": "Python 3",
   "language": "python",
   "name": "python3"
  },
  "language_info": {
   "codemirror_mode": {
    "name": "ipython",
    "version": 3
   },
   "file_extension": ".py",
   "mimetype": "text/x-python",
   "name": "python",
   "nbconvert_exporter": "python",
   "pygments_lexer": "ipython3",
   "version": "3.7.6"
  }
 },
 "nbformat": 4,
 "nbformat_minor": 4
}
